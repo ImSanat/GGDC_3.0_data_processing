{
  "cells": [
    {
      "cell_type": "code",
      "execution_count": 1,
      "id": "56926d6f-dd79-4d35-9a44-619edb6b9f64",
      "metadata": {
        "id": "56926d6f-dd79-4d35-9a44-619edb6b9f64"
      },
      "outputs": [],
      "source": [
        "# Import pandas for working with tabular data\n",
        "import pandas as pd"
      ]
    },
    {
      "cell_type": "code",
      "execution_count": 2,
      "id": "73f24df5-df37-44a2-bfc4-35ae9f9bb30f",
      "metadata": {
        "id": "73f24df5-df37-44a2-bfc4-35ae9f9bb30f"
      },
      "outputs": [],
      "source": [
        "# Read exel file and get all the sheet_names\n",
        "xl = pd.ExcelFile(\"DDH comparison with all plasmids.xlsx\")\n",
        "sheet_names = xl.sheet_names  # see all sheet names"
      ]
    },
    {
      "cell_type": "code",
      "execution_count": 3,
      "id": "4522d79c-33f6-4eaa-b330-e476f9687d41",
      "metadata": {
        "id": "4522d79c-33f6-4eaa-b330-e476f9687d41"
      },
      "outputs": [],
      "source": [
        "# Filter only the sheet names that are bacteria strain datas\n",
        "sheet_names = [sh for sh in sheet_names if sh.startswith(\"CP\") or sh.startswith(\"AP\")]"
      ]
    },
    {
      "cell_type": "code",
      "execution_count": 4,
      "id": "07edbd38-e66b-4757-8fce-91d3bac9564b",
      "metadata": {
        "id": "07edbd38-e66b-4757-8fce-91d3bac9564b"
      },
      "outputs": [],
      "source": [
        "# Create a mapping between the strain_id_1 with all other strain ids and save the similarities\n",
        "\n",
        "mapping = {}\n",
        "\n",
        "for sheet_name in sheet_names:\n",
        "    df = pd.read_excel(xl, sheet_name)\n",
        "\n",
        "    df = df[['_1', 'Formula 2']]\n",
        "    df = df[df['_1'].str.startswith('CP') | df['_1'].str.startswith('AP')]\n",
        "    df.reset_index(drop=True, inplace=True)\n",
        "    number_of_rows = len(df.index)\n",
        "\n",
        "    sh_name = sheet_name.replace(\" \", \".\")\n",
        "    mapping[sh_name] = {}\n",
        "\n",
        "    for index, row in df.iterrows():\n",
        "        strain_id = row['_1']\n",
        "        similarity = row['Formula 2']\n",
        "\n",
        "        mapping[sh_name][strain_id] = similarity"
      ]
    },
    {
      "cell_type": "code",
      "execution_count": 5,
      "id": "16-g3CVIbBbi",
      "metadata": {
        "id": "16-g3CVIbBbi"
      },
      "outputs": [],
      "source": [
        "# Check that all the similarities are consistent(we don't have similarities that conflict with each other)\n",
        "dupl_dict = {}\n",
        "\n",
        "for strain1, mapping_dict in mapping.items():\n",
        "  for strain2, similarity in mapping_dict.items():\n",
        "\n",
        "    strain_names = [strain1, strain2]\n",
        "\n",
        "    strain_names.sort()\n",
        "    key = tuple(strain_names)\n",
        "\n",
        "    if key in dupl_dict:\n",
        "      dupl_dict[key].append(similarity)\n",
        "    else:\n",
        "      dupl_dict[key] = [similarity]\n",
        "\n",
        "for k, v in dupl_dict.items():\n",
        "    v = [float(val) for val in v]\n",
        "\n",
        "    if len(set(v)) != 1:\n",
        "        print(\"Eroare\", set(v))\n",
        "        print(\"Floats\", v, set(v))"
      ]
    },
    {
      "cell_type": "code",
      "execution_count": 6,
      "id": "4hdEtuaMcLh3",
      "metadata": {
        "id": "4hdEtuaMcLh3"
      },
      "outputs": [],
      "source": [
        "# Create a list of all unique strain ids\n",
        "all_strains = set()\n",
        "\n",
        "for strain1, mapping_dict in mapping.items():\n",
        "  all_strains.add(strain1)\n",
        "  for strain2, similarity in mapping_dict.items():\n",
        "    all_strains.add(strain2)\n",
        "\n",
        "all_strains = list(all_strains)\n",
        "\n",
        "all_strains.sort()"
      ]
    },
    {
      "cell_type": "code",
      "execution_count": 7,
      "id": "1c06e813-fcd4-42ca-9679-2c6bec09387f",
      "metadata": {
        "id": "1c06e813-fcd4-42ca-9679-2c6bec09387f"
      },
      "outputs": [],
      "source": [
        "# create an empty dataframe with strains on X and Y axes.\n",
        "final_df = pd.DataFrame(columns=all_strains, index=all_strains)"
      ]
    },
    {
      "cell_type": "code",
      "execution_count": 8,
      "id": "021a7bfc-96a4-4bca-a445-ffec40cfcd42",
      "metadata": {
        "id": "021a7bfc-96a4-4bca-a445-ffec40cfcd42"
      },
      "outputs": [],
      "source": [
        "# Fill in the similarities in the dataframe\n",
        "for strain1, mapping_dict in mapping.items():\n",
        "    index_name = strain1\n",
        "    for strain2, similarity in mapping_dict.items():\n",
        "        column_name = strain2\n",
        "        value = float(similarity)\n",
        "\n",
        "        final_df.at[index_name, column_name] = value"
      ]
    },
    {
      "cell_type": "code",
      "execution_count": 9,
      "id": "d8541c37-3659-4a03-9d2c-12c5f2500868",
      "metadata": {
        "id": "d8541c37-3659-4a03-9d2c-12c5f2500868"
      },
      "outputs": [],
      "source": [
        "# Save the output dataframe\n",
        "final_df.to_excel(\"dDDH.xlsx\")"
      ]
    }
  ],
  "metadata": {
    "colab": {
      "provenance": []
    },
    "kernelspec": {
      "display_name": "Python 3 (ipykernel)",
      "language": "python",
      "name": "python3"
    },
    "language_info": {
      "codemirror_mode": {
        "name": "ipython",
        "version": 3
      },
      "file_extension": ".py",
      "mimetype": "text/x-python",
      "name": "python",
      "nbconvert_exporter": "python",
      "pygments_lexer": "ipython3",
      "version": "3.12.0"
    }
  },
  "nbformat": 4,
  "nbformat_minor": 5
}
